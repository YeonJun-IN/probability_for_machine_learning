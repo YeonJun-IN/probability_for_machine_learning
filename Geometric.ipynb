{
  "nbformat": 4,
  "nbformat_minor": 0,
  "metadata": {
    "colab": {
      "name": "Geometric.ipynb",
      "provenance": [],
      "collapsed_sections": [],
      "authorship_tag": "ABX9TyOZbxufux66JKcOmnsC8vgH",
      "include_colab_link": true
    },
    "kernelspec": {
      "name": "python3",
      "display_name": "Python 3"
    },
    "language_info": {
      "name": "python"
    }
  },
  "cells": [
    {
      "cell_type": "markdown",
      "metadata": {
        "id": "view-in-github",
        "colab_type": "text"
      },
      "source": [
        "<a href=\"https://colab.research.google.com/github/YeonJun-IN/probability_for_machine_learning/blob/main/Geometric.ipynb\" target=\"_parent\"><img src=\"https://colab.research.google.com/assets/colab-badge.svg\" alt=\"Open In Colab\"/></a>"
      ]
    },
    {
      "cell_type": "markdown",
      "metadata": {
        "id": "QeU5M230RpfI"
      },
      "source": [
        "# Geometric Distribution\n",
        "## 1. Definition\n",
        "- i.i.d $Bern(p)$ 시행을 성공이 나올 때까지 진행한다. \n",
        "- 확률변수 $X$가 그 시행들에서 첫 성공이 나오기까지 실패한 횟수를 나타내면, $X$는 Geometric Distribution을 따른다\n",
        "- $X \\sim Geom(p)$\n",
        "\n",
        "## 2. PMF\n",
        "> $P(X=k) = q^{k}p, \\space \\space k \\in \\{0, 1, 2, ...\\}$\n",
        "\n",
        "## 3. Expectation and Variance\n",
        "#### Expectation\n",
        "> $E(X) = \\sum_{k=0}^{\\infty}{k P(X=k)} = p\\sum_{k=0}^{\\infty}{k q^{k}} = p\\frac{q}{p^2} = {q}/{p}$ \n",
        "> \n",
        "> 여기서 $\\sum_{k=0}^{\\infty}{k q^{k}}$를  다음과 같이 구할 수 있다.\n",
        "> \n",
        "> $\\sum_{k=0}^{\\infty} q^k = 1/(1-q)$\n",
        "> 양변을 q에 대해서 미분\n",
        ">\n",
        "> $\\sum^{\\infty}_{k=0}{k q^{k-1}} = 1/(1-q)^2$ \n",
        ">\n",
        "> $\\sum^{\\infty}_{k=0}{k q^{k}} = q/(1-q)^2 = q/p^2$ \n",
        "> \n"
      ]
    },
    {
      "cell_type": "code",
      "metadata": {
        "id": "oEtSzUVxU1AX"
      },
      "source": [
        "import numpy as np\n",
        "import matplotlib.pyplot as plt"
      ],
      "execution_count": null,
      "outputs": []
    }
  ]
}
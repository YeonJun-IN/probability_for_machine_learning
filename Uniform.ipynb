{
  "nbformat": 4,
  "nbformat_minor": 0,
  "metadata": {
    "colab": {
      "name": "Uniform.ipynb",
      "provenance": [],
      "collapsed_sections": [],
      "authorship_tag": "ABX9TyMxCBvhId6BNv5HDdv6Iur9",
      "include_colab_link": true
    },
    "kernelspec": {
      "name": "python3",
      "display_name": "Python 3"
    },
    "language_info": {
      "name": "python"
    }
  },
  "cells": [
    {
      "cell_type": "markdown",
      "metadata": {
        "id": "view-in-github",
        "colab_type": "text"
      },
      "source": [
        "<a href=\"https://colab.research.google.com/github/YeonJun-IN/probability_for_machine_learning/blob/main/Uniform.ipynb\" target=\"_parent\"><img src=\"https://colab.research.google.com/assets/colab-badge.svg\" alt=\"Open In Colab\"/></a>"
      ]
    },
    {
      "cell_type": "markdown",
      "metadata": {
        "id": "v28gOoyJz8qs"
      },
      "source": [
        "# Uniform Distribution (Continunous)\n",
        "## 1. Definition\n",
        "- 어떤 시행의 결과 값이 특정 구간 [a,b] 에서 완전히 무작위로(completely random) 발생하고, 확률 변수 X가 그 결과값을 나타내면 Uniform Distribution을 따른다.\n",
        "\n",
        "- $X \\sim Unif(a, b)$\n",
        "\n",
        "\n",
        "## 2. PDF, CDF\n",
        "#### PDF\n",
        "> $\\begin{equation}\n",
        "   f(x) =  \n",
        "    \\begin{cases}\n",
        "      \\frac{1}{b-a}, & \\text{if}\\ a \\leq x \\leq b \\\\\n",
        "      0, & \\text{otherwise}\n",
        "    \\end{cases}\n",
        "\\end{equation}$\n",
        "\n",
        "#### CDF\n",
        "> $\\begin{equation}\n",
        "   F(x) =  \\int_{-\\infty}^{x}{f(t)dt}=\n",
        "    \\begin{cases}\n",
        "      1, & \\text{if}\\ x > b \\\\\n",
        "      \\frac{x-a}{b-a}, & \\text{if}\\ a \\leq x \\leq b \\\\\n",
        "      0, & \\text{if} x < a\n",
        "    \\end{cases}\n",
        "\\end{equation}$\n",
        "\n",
        "\n",
        "## 3. Expectation, Variance\n",
        "#### Expectation\n",
        "\n",
        "> $E(X)=\\int_{a}^{b}{xf(x) dx} = \\int_{a}^{b}{\\frac{x}{b-a} dx}=\\frac{1}{b+a}$\n",
        "\n",
        "#### Variance\n",
        "> $Var(X) = E(X^2) - (EX)^2$\n",
        "> \n",
        "> $E(X^2) = \\int_{a}^{b}{x^2 f(x)dx}=\\int_{a}^{b}{\\frac{x^2}{b-a}dx}, \\space\\space$ by LOTUS\n",
        ">\n",
        "> $\\space\\space$\n",
        "> \n",
        "> $X \\sim Unif(0,1)$이라고 하고 $Var(X)$를 구해보면,\n",
        ">\n",
        "> $E(X^2) = \\int_{0}^{1}{{x^2}dx} = \\frac{1}{3}, \\space\\space E(X) = \\frac{1}{2}$\n",
        ">\n",
        "> $Var(X) = \\frac{1}{3} - (\\frac{1}{2})^2 = \\frac{1}{12}$"
      ]
    },
    {
      "cell_type": "code",
      "metadata": {
        "id": "h-UXvMa1Twp6"
      },
      "source": [
        ""
      ],
      "execution_count": null,
      "outputs": []
    }
  ]
}
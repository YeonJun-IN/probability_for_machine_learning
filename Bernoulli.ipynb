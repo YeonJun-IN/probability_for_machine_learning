{
  "nbformat": 4,
  "nbformat_minor": 0,
  "metadata": {
    "colab": {
      "name": "Bernoulli.ipynb",
      "provenance": [],
      "collapsed_sections": [],
      "authorship_tag": "ABX9TyN0dfSfkL3dFcqKg83fPB2L",
      "include_colab_link": true
    },
    "kernelspec": {
      "name": "python3",
      "display_name": "Python 3"
    },
    "language_info": {
      "name": "python"
    }
  },
  "cells": [
    {
      "cell_type": "markdown",
      "metadata": {
        "id": "view-in-github",
        "colab_type": "text"
      },
      "source": [
        "<a href=\"https://colab.research.google.com/github/YeonJun-IN/probability_for_machine_learning/blob/main/Bernoulli.ipynb\" target=\"_parent\"><img src=\"https://colab.research.google.com/assets/colab-badge.svg\" alt=\"Open In Colab\"/></a>"
      ]
    },
    {
      "cell_type": "markdown",
      "metadata": {
        "id": "4THlcItHyULr"
      },
      "source": [
        "## Beroulli Distribution\n",
        "\n",
        "### 1. Definition\n",
        "확률변수 X가 오직 0, 1 두 개의 값만 가지면 -> 확률 변수 X는 Bernoulli Distribution을 따른다. \n",
        "\n",
        "$X \\sim Bern(p)$\n",
        "\n",
        "\\\\\n",
        "\n",
        "### 2. PMF\n",
        "$\n",
        "P(X=1) = p,~~P(X=0)=1-p\n",
        "$\n",
        "\n",
        "$\n",
        "\\begin{equation}\n",
        "    P(X=x)=\n",
        "    \\begin{cases}\n",
        "      p, & \\text{if}\\ x=1 \\\\\n",
        "      1-p, & \\text{otherwise}\n",
        "    \\end{cases}\n",
        "\\end{equation}\n",
        "$\n"
      ]
    }
  ]
}
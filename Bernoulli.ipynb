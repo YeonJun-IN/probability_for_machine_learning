{
  "nbformat": 4,
  "nbformat_minor": 0,
  "metadata": {
    "colab": {
      "name": "Bernoulli.ipynb",
      "provenance": [],
      "collapsed_sections": [],
      "authorship_tag": "ABX9TyNZYraksUFbV39wGNZzVKIw",
      "include_colab_link": true
    },
    "kernelspec": {
      "name": "python3",
      "display_name": "Python 3"
    },
    "language_info": {
      "name": "python"
    }
  },
  "cells": [
    {
      "cell_type": "markdown",
      "metadata": {
        "id": "view-in-github",
        "colab_type": "text"
      },
      "source": [
        "<a href=\"https://colab.research.google.com/github/YeonJun-IN/probability_for_machine_learning/blob/main/Bernoulli.ipynb\" target=\"_parent\"><img src=\"https://colab.research.google.com/assets/colab-badge.svg\" alt=\"Open In Colab\"/></a>"
      ]
    },
    {
      "cell_type": "markdown",
      "metadata": {
        "id": "4THlcItHyULr"
      },
      "source": [
        "# Beroulli Distribution\n",
        "\n",
        "## 1. Definition\n",
        "확률변수 X가 오직 0, 1 두 개의 값만 가지면 -> 확률 변수 X는 Bernoulli Distribution을 따른다. \n",
        "\n",
        "$X \\sim Bern(p)$\n",
        "\n",
        "## 2. PMF\n",
        "$\n",
        "P(X=1) = p,\\space P(X=0)=1-p\n",
        "$\n",
        "\n",
        "$\n",
        "\\begin{equation}\n",
        "    P(X=x)=\n",
        "    \\begin{cases}\n",
        "      p, & \\text{if}\\ x=1 \\\\\n",
        "      1-p, & \\text{otherwise}\n",
        "    \\end{cases}\n",
        "\\end{equation}\n",
        "$\n",
        "\n",
        "## 3. Expectation and Variance\n",
        "#### Expectation\n",
        "> $E(X) = \\sum_{k=0}^{1}{k P(x=k)} = P(x=1) = p$\n",
        "\n",
        "#### Variance\n",
        ">$Var(X) = E(X^2) - (EX)^2 $\n",
        ">\n",
        "> $E(X^2) = \\sum_{k=0}^{1}{k^2 P(x=k)} = P(x=1) = p$\n",
        ">\n",
        "> $Var(X) = p - p^2 = p(1-p) = pq$\n"
      ]
    },
    {
      "cell_type": "code",
      "metadata": {
        "id": "Wd_QoQDlWVTd"
      },
      "source": [
        "import numpy as np\n",
        "import matplotlib.pyplot as plt"
      ],
      "execution_count": null,
      "outputs": []
    },
    {
      "cell_type": "code",
      "metadata": {
        "colab": {
          "base_uri": "https://localhost:8080/",
          "height": 301
        },
        "id": "XegaEj_zWJyf",
        "outputId": "3fc668dd-de3d-4eb5-88ae-8ed36fadb0ee"
      },
      "source": [
        "def Bern(p): return 1 if np.random.uniform(0,1) >= p else 0\n",
        "\n",
        "num_1, num_0 = 0, 0\n",
        "\n",
        "for i in range(100_000):\n",
        "  if Bern(0.5)==0:\n",
        "    num_0 += 1\n",
        "  else:\n",
        "    num_1 += 1\n",
        "\n",
        "print('# success:', num_1)\n",
        "print('# failure:', num_0)\n",
        "\n",
        "bern = []\n",
        "for i in range(100):\n",
        "  bern.append(Bern(0.5))\n",
        "\n",
        "plt.plot(bern, linestyle = 'None', marker='o', markersize=3)\n",
        "plt.show()"
      ],
      "execution_count": null,
      "outputs": [
        {
          "output_type": "stream",
          "text": [
            "# success: 49954\n",
            "# failure: 50046\n"
          ],
          "name": "stdout"
        },
        {
          "output_type": "display_data",
          "data": {
            "image/png": "[encoded data removed]",
            "text/plain": [
              "<Figure size 432x288 with 1 Axes>"
            ]
          },
          "metadata": {
            "tags": [],
            "needs_background": "light"
          }
        }
      ]
    },
    {
      "cell_type": "code",
      "metadata": {
        "colab": {
          "base_uri": "https://localhost:8080/",
          "height": 265
        },
        "id": "XjGTUytbWMD3",
        "outputId": "1f98b8de-8c52-4ca3-aa43-18ed377a8241"
      },
      "source": [
        "def Bern_pmf(p):\n",
        "  bern = Bern(p)\n",
        "  return p*bern + (1-p)*"
      ],
      "execution_count": null,
      "outputs": [
        {
          "output_type": "display_data",
          "data": {
            "image/png": "[encoded data removed]",
            "text/plain": [
              "<Figure size 432x288 with 1 Axes>"
            ]
          },
          "metadata": {
            "tags": [],
            "needs_background": "light"
          }
        }
      ]
    }
  ]
}
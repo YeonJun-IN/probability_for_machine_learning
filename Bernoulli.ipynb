{
  "nbformat": 4,
  "nbformat_minor": 0,
  "metadata": {
    "colab": {
      "name": "Bernoulli.ipynb",
      "provenance": [],
      "collapsed_sections": [],
      "authorship_tag": "ABX9TyPq0dwButC+RgitC3FAS828",
      "include_colab_link": true
    },
    "kernelspec": {
      "name": "python3",
      "display_name": "Python 3"
    },
    "language_info": {
      "name": "python"
    }
  },
  "cells": [
    {
      "cell_type": "markdown",
      "metadata": {
        "id": "view-in-github",
        "colab_type": "text"
      },
      "source": [
        "<a href=\"https://colab.research.google.com/github/YeonJun-IN/probability_for_machine_learning/blob/main/Bernoulli.ipynb\" target=\"_parent\"><img src=\"https://colab.research.google.com/assets/colab-badge.svg\" alt=\"Open In Colab\"/></a>"
      ]
    },
    {
      "cell_type": "markdown",
      "metadata": {
        "id": "4THlcItHyULr"
      },
      "source": [
        "## Beroulli Distribution\n",
        "\n",
        "### 1. Definition\n",
        "확률변수 X가 오직 0, 1 두 개의 값만 가지면 -> 확률 변수 X는 Bernoulli Distribution을 따른다. \n",
        "\n",
        "$X \\sim Bern(p)$\n",
        "\n",
        "### 2. PMF\n",
        "$\n",
        "P(X=1) = p,\\space P(X=0)=1-p\n",
        "$\n",
        "\n",
        "$\n",
        "\\begin{equation}\n",
        "    P(X=x)=\n",
        "    \\begin{cases}\n",
        "      p, & \\text{if}\\ x=1 \\\\\n",
        "      1-p, & \\text{otherwise}\n",
        "    \\end{cases}\n",
        "\\end{equation}\n",
        "$\n"
      ]
    },
    {
      "cell_type": "code",
      "metadata": {
        "id": "Wd_QoQDlWVTd"
      },
      "source": [
        "import numpy as np\n",
        "import matplotlib.pyplot as plt"
      ],
      "execution_count": 1,
      "outputs": []
    },
    {
      "cell_type": "code",
      "metadata": {
        "colab": {
          "base_uri": "https://localhost:8080/"
        },
        "id": "XegaEj_zWJyf",
        "outputId": "d570ea5c-31da-424f-dfd3-51202c5fbc75"
      },
      "source": [
        "def Bern(p): return 1 if np.random.uniform(0,1) >= p else 0\n",
        "\n",
        "num_1, num_0 = 0, 0\n",
        "\n",
        "for i in range(100_000):\n",
        "  if Bern(0.5)==0:\n",
        "    num_0 += 1\n",
        "  else:\n",
        "    num_1 += 1\n",
        "\n",
        "print('# success:', num_1)\n",
        "print('# failure:', num_0)"
      ],
      "execution_count": 2,
      "outputs": [
        {
          "output_type": "stream",
          "text": [
            "# success: 49748\n",
            "# failure: 50252\n"
          ],
          "name": "stdout"
        }
      ]
    },
    {
      "cell_type": "code",
      "metadata": {
        "colab": {
          "base_uri": "https://localhost:8080/",
          "height": 265
        },
        "id": "XjGTUytbWMD3",
        "outputId": "1f98b8de-8c52-4ca3-aa43-18ed377a8241"
      },
      "source": [
        "bern = []\n",
        "for i in range(100):\n",
        "  bern.append(Bern(0.5))\n",
        "\n",
        "plt.plot(bern, linestyle = 'None', marker='o', markersize=3)\n",
        "plt.show()"
      ],
      "execution_count": 3,
      "outputs": [
        {
          "output_type": "display_data",
          "data": {
            "image/png": "[encoded data removed]",
            "text/plain": [
              "<Figure size 432x288 with 1 Axes>"
            ]
          },
          "metadata": {
            "tags": [],
            "needs_background": "light"
          }
        }
      ]
    }
  ]
}
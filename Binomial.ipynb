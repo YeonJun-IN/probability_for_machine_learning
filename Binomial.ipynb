{
  "nbformat": 4,
  "nbformat_minor": 0,
  "metadata": {
    "colab": {
      "name": "Binomial.ipynb",
      "provenance": [],
      "collapsed_sections": [],
      "authorship_tag": "ABX9TyMRdFPYM9lXxnfj+jeQJd/A",
      "include_colab_link": true
    },
    "kernelspec": {
      "name": "python3",
      "display_name": "Python 3"
    },
    "language_info": {
      "name": "python"
    }
  },
  "cells": [
    {
      "cell_type": "markdown",
      "metadata": {
        "id": "view-in-github",
        "colab_type": "text"
      },
      "source": [
        "<a href=\"https://colab.research.google.com/github/YeonJun-IN/probability_for_machine_learning/blob/main/Binomial.ipynb\" target=\"_parent\"><img src=\"https://colab.research.google.com/assets/colab-badge.svg\" alt=\"Open In Colab\"/></a>"
      ]
    },
    {
      "cell_type": "markdown",
      "metadata": {
        "id": "v28gOoyJz8qs"
      },
      "source": [
        "# Binomial Distribution\n",
        "## 1. Definition\n",
        "- 확률 변수 X가 n개의 i.i.d $Bern(p)$ 시행에서 success가 발생한 횟수를 나타내면, X는 Binomial Distribution을 따른다.\n",
        "\n",
        "- $X \\sim Bin(n, p)$\n",
        "\n",
        "\n",
        "## 2. PMF\n",
        "> $P(X=k) = {n \\choose k}p^{k} (1-p)^{n-k} = {n \\choose k}p^{k} q^{n-k}$\n",
        "\n",
        "- n번 i.i.d $Bern(p)$ 시행을 했을 때, k번 성공할 확률.\n",
        "- e.g. \n",
        "  - 7번 시행을 했을 때 결과 값이 1 1 0 0 0 1 0 가 나왔다면, 확률 값은 ${7 \\choose 3} p^3 q^4$가 됨.\n",
        "  - 앞면이 나올 확률이 1/2 인 $Bern(1/2)$ 를 7번 독립적으로 시행했을 때, 앞면이 나오는 횟수에 대한 분포는 $Bin(7, 1/2)$를 따른다.\n",
        "\n",
        "## 3. Expectation and Variance\n",
        "#### Expectation\n",
        "> $E(X) = \\sum_{k=0}^{n}{k P(X=k)}$\n",
        ">\n",
        "> $= \\sum_{k=0}^{n}{k {n \\choose k}p^k q^{n-k}}$\n",
        "> $= \\sum_{k=1}^{n}{k {n \\choose k}p^k q^{n-k}}$\n",
        ">\n",
        "> $= \\sum_{k=1}^{n}{n{n-1 \\choose k-1}p^k q^{n-k}}$\n",
        "> \n",
        "> $= np\\sum_{k=1}^{n}{{n-1 \\choose k-1}p^{k-1} q^{n-k}}$\n",
        "> \n",
        "> $= np\\sum_{j=0}^{n-1}{{n-1 \\choose j}p^{j} q^{n-j-1}}$\n",
        ">\n",
        "> $= np\\sum_{j=0}^{n-1}{P(Y=j)}, \\space\\space where \\space\\space Y \\sim Bin(n-1, p)$\n",
        "> \n",
        "> $ = np$\n",
        "\n",
        "#### Variance\n",
        "\n",
        "> $X = I_1 + I_2+...+I_n,\\space\\space I_j \\sim \\space\\space i.i.d \\space\\space Bern(p)$\n",
        ">\n",
        "> i.i.d 이기 때문에 $Cov(I_j, I_i)=0$이 되어서 $Var(X) = Var(I_1)+Var(I_2)+...+Var(I_n)$\n",
        ">\n",
        "> $Var(I_1) = p(1-p)$ 이기 때문에, $Var(X) = np(1-p)$"
      ]
    },
    {
      "cell_type": "code",
      "metadata": {
        "id": "RJVCu--4NaFr"
      },
      "source": [
        "import numpy as np\n",
        "import matplotlib.pyplot as plt\n",
        "\n",
        "def Bern_rv(p): return 1 if np.random.uniform(0,1) >= p else 0\n",
        "\n",
        "def Bin_rv(n,p):\n",
        "  n_trial = []\n",
        "  for _ in range(n):\n",
        "    n_trial.append(Bern(p))\n",
        "  _, counts = np.unique(result, return_counts=True)\n",
        "  return counts[1]\n"
      ],
      "execution_count": null,
      "outputs": []
    },
    {
      "cell_type": "code",
      "metadata": {
        "colab": {
          "base_uri": "https://localhost:8080/"
        },
        "id": "W771_sP7Yric",
        "outputId": "d0099535-7999-46f2-92dd-d61c204452bd"
      },
      "source": [
        "Bin(100, p)"
      ],
      "execution_count": null,
      "outputs": [
        {
          "output_type": "execute_result",
          "data": {
            "text/plain": [
              "56"
            ]
          },
          "metadata": {
            "tags": []
          },
          "execution_count": 25
        }
      ]
    },
    {
      "cell_type": "markdown",
      "metadata": {
        "id": "DltizVTZTvZc"
      },
      "source": [
        "## 4. Binomial Distribution을 이해하는 다른 방법\n",
        "1. Indicator random variable 이용\n",
        "  - 확률변수 $X$는 n번의 시행 중 성공 횟수를 나타낸다. 그러므로 확률변수 $X$는 성공, 실패 여부를 결과로 나타내는 독립적인 n개의 indicator random variables의 합으로 나타낼 수 있다. \n",
        "  - $X = X_1 + X_2 + ... + X_n$\n",
        "  \n",
        "  - $X_j$는 성공(1), 실패(0) 의 두가지 결과 값만을 가진다. 그리고 성공 확률은 $p$, 실패 확률은 $1-p$ 이다. 이는 $Bern(p)$와 같다.\n",
        "  - indicator r.v.s $\n",
        "\\begin{equation}\n",
        "    X_j=\n",
        "    \\begin{cases}\n",
        "      1, & \\text{if}\\ jth \\space \\space trial \\space \\space success \\\\\n",
        "      0, & \\text{otherwise}\n",
        "    \\end{cases}\n",
        "\\end{equation}\n",
        "$\n",
        "  - $X_j \\sim i.i.d \\space Bern(p)$\n",
        "\n",
        "\n",
        "## 5. Binomial Distribution의 성질\n",
        "> $X \\sim Bin(n,p), \\space \\space Y \\sim Bin(m,p)$, and $X$ independent of $Y$\n",
        "> \n",
        "> then, $X+Y \\sim Bin(n+m, p)$\n",
        "\n",
        "- 개념적 접근\n",
        "> $X$는 iid $Bern(p)$ n번 시행에서 성공 횟수\n",
        "> \n",
        "> $Y$는 iid $Bern(p)$ m번 시행에서 성공 횟수\n",
        "> \n",
        "> $X$와 $Y$는 독립이므로, $X$에서의 각 시행들과 $Y$에서의 각 시행들도 서로 독립.\n",
        "> \n",
        "> 그렇다면 $X+Y$는 iid $Bern(p)$ 를 n번 시행 한 후에, 이어서 m번 추가적으로 했을 때, 전체 시행(m+n)에서의 성공 횟수라고 할 수 있음. => $X+Y \\sim Bin(n+m, p)$\n",
        "- Indicator r.v.s 이용\n",
        "> indicator r.v.s $X_j, Y_i$를 이용하여 $X, Y$를 다음과 같이 나타낼 수 있음.\n",
        "    - $X=X_1+X_2+...+X_n, \\space \\space Y=Y_1+Y_2+...+Y_m$ \n",
        "> \n",
        "> $X, Y$를 합하면 다음과 같음\n",
        "> \n",
        ">   - $X+Y = X_1+X_2+...+X_n + Y_1+Y_2+...+Y_m$\n",
        "> \n",
        "> $X_j, Y_i$는 i.i.d $Bern(p)$를 따르기 때문에, 결과적으로 $X+Y \\sim Bin(n+m, p)$\n",
        "\n",
        "- PMF\n",
        "> $P(X+Y=k)$\n",
        "> \n",
        "> $= \\sum_{j=0}^{k} P(X+Y=k | X=j)P(X=j) \\space \\space \\because Law \\space \\space of \\space \\space total \\space \\space probability$\n",
        "> \n",
        "> $= \\sum_{j=0}^{k} P(Y=k-j)P(X=j) \\space \\space \\because X \\space \\space indep. \\space \\space of \\space \\space Y$ \n",
        ">\n",
        "> $= \\sum_{j=0}^{k} {m \\choose k-j}p^{k-j} q^{m-k+j}{n \\choose j}p^j q^{n-j}$\n",
        "> \n",
        "> $= p^{k} q^{m+n-k}\\sum_{j=0}^{k} {m \\choose k-j}{n \\choose j}$\n",
        "> \n",
        "> $= p^{k} q^{m+n-k}{m+n \\choose k} \\space \\space \\because vandermonde's \\space \\space identity $\n",
        "\n",
        "## 6. MLE of Binomial"
      ]
    },
    {
      "cell_type": "code",
      "metadata": {
        "id": "h-UXvMa1Twp6"
      },
      "source": [
        ""
      ],
      "execution_count": null,
      "outputs": []
    }
  ]
}
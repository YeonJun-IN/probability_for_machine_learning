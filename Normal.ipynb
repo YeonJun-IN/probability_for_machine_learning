{
  "nbformat": 4,
  "nbformat_minor": 0,
  "metadata": {
    "colab": {
      "name": "Normal.ipynb",
      "provenance": [],
      "collapsed_sections": [],
      "authorship_tag": "ABX9TyNa4XssyDzU3qUSgw4b24+1",
      "include_colab_link": true
    },
    "kernelspec": {
      "name": "python3",
      "display_name": "Python 3"
    },
    "language_info": {
      "name": "python"
    }
  },
  "cells": [
    {
      "cell_type": "markdown",
      "metadata": {
        "id": "view-in-github",
        "colab_type": "text"
      },
      "source": [
        "<a href=\"https://colab.research.google.com/github/YeonJun-IN/probability_for_machine_learning/blob/main/Normal.ipynb\" target=\"_parent\"><img src=\"https://colab.research.google.com/assets/colab-badge.svg\" alt=\"Open In Colab\"/></a>"
      ]
    },
    {
      "cell_type": "markdown",
      "metadata": {
        "id": "KsJdNHRKMjA-"
      },
      "source": [
        "# Normal Distribution\n",
        "## 1. PDF, CDF\n",
        "#### Standard Normal\n",
        "> $Z \\sim N(\\mu, \\sigma^2)$일 때, $\\space\\mu = 0, \\sigma^2 = 1$ 이면 다음과 같은 PDF를 갖는다.\n",
        "> \n",
        "> $f(z) = \\frac{1}{\\sqrt{2\\pi}}e^{-z^2 /2}$\n",
        ">\n",
        "> $\\Phi(z)$를 standard normal의 CDF로 표현한다.\n",
        ">\n",
        "> $\\Phi(z) = \\frac{1}{\\sqrt{2\\pi}}\\int_{-\\infty}^{z}{e^{-t^2/2}dt}$\n",
        ">\n",
        "> PDF가 대칭이기 때문에 $\\Phi(-z) = 1-\\Phi(z)$\n",
        "\n",
        "\n",
        "#### General Normal\n",
        "> $X = \\mu + \\sigma Z $라고 하면$(\\mu$는 실수, $\\sigma >0), \\space\\space$ $X \\sim N(\\mu, \\sigma^2)$이다.\n",
        "> \n",
        "> 그러면 $Z = (X-\\mu)/\\sigma$ 로 표현이 가능하고, 이를 standardization이라 한다. $\\mu$는 분포의 위치를 옆으로 이동, $\\sigma$는 분포의 scale을 조절한다.\n",
        ">\n",
        "> $f(x) = \\frac{1}{\\sqrt{2\\pi \\sigma^2}}e^{-(\\frac{x-\\mu}{\\sigma})^2 /2}$\n",
        "\n",
        "## 3. Expectation, Variance\n",
        "#### Expectation of $N(0,1)$\n",
        "\n",
        "> $E(Z)=\\int_{-\\infty}^{\\infty}{zf(z) dz}$\n",
        ">\n",
        "> $=\\frac{1}{\\sqrt{2\\pi}} \\int_{-\\infty}^{\\infty}{z e^{-z^2/2} dz}\\space\\space$ 기함수 이기 때문에\n",
        ">\n",
        "> $=0$\n",
        "\n",
        "#### Variance of $N(0,1)$\n",
        "> $Var(Z) = E(Z^2) - (EZ)^2$\n",
        "> \n",
        "> $E(Z^2) = \\int_{-\\infty}^{\\infty}{z^2 f(z)dz}\\space\\space$ by LOTUS\n",
        ">\n",
        "> $= \\frac{1}{\\sqrt{2\\pi}} \\int_{-\\infty}^{\\infty}{z^2 e^{-z^2/2}dz}\\space\\space$ 우함수이기 때문에\n",
        ">\n",
        "> $= \\frac{2}{\\sqrt{2\\pi}} \\int_{0}^{\\infty}{z^2 e^{-z^2/2}dz}$  \n",
        "> \n",
        "> $= \\frac{2}{\\sqrt{2\\pi}} \\int_{0}^{\\infty}{z \\cdot z e^{-z^2/2}dz}\\space\\space$, 부분 적분 법을 이용하여 풀면\n",
        ">\n",
        "> $=1$\n",
        ">\n",
        "> $Var(Z) = E(Z^2) - (EZ)^2 = 1- 0 = 1$\n",
        "#### Expectation of $N(\\mu, \\sigma^2)$\n",
        "> $X = \\mu + \\sigma Z$\n",
        ">\n",
        "> $E(X) = E(\\mu + \\sigma Z) = E(\\mu) + \\sigma E(Z) = \\mu$\n",
        "\n",
        "#### Variance of $N(\\mu, \\sigma^2)$\n",
        "> $X = \\mu + \\sigma Z$\n",
        ">\n",
        "> $Var(X) = Var(\\mu + \\sigma Z) = \\sigma^2 Var(Z) = \\sigma^2 $"
      ]
    },
    {
      "cell_type": "code",
      "metadata": {
        "id": "pZiSK5WmUKYQ"
      },
      "source": [
        "import numpy as np\n",
        "import matplotlib.pyplot as plt"
      ],
      "execution_count": null,
      "outputs": []
    },
    {
      "cell_type": "code",
      "metadata": {
        "id": "CDj93v2eUYiL"
      },
      "source": [
        "def Normal_pdf(mu, sigma, x):\n",
        "  return np.exp(-1/2*((x-mu)/sigma)**2) * 1/sigma/np.sqrt(2*np.pi)\n"
      ],
      "execution_count": null,
      "outputs": []
    },
    {
      "cell_type": "code",
      "metadata": {
        "id": "zkXT8iJtVFE8"
      },
      "source": [
        "likelihood = []\n",
        "x = []\n",
        "for i in range(-7, 8):\n",
        "  likelihood.append(Normal_pdf(0, 1, i))\n",
        "  x.append(i)"
      ],
      "execution_count": null,
      "outputs": []
    },
    {
      "cell_type": "code",
      "metadata": {
        "colab": {
          "base_uri": "https://localhost:8080/",
          "height": 305
        },
        "id": "zcayBc6ZUe39",
        "outputId": "22ecaa09-b63c-4aea-cc00-8e935c977b59"
      },
      "source": [
        "print(np.sum(likelihood))\n",
        "\n",
        "plt.plot(x, likelihood, linestyle = 'None', marker='o', markersize=3)\n",
        "plt.ylim(-0.1,0.8)\n",
        "\n",
        "plt.xlim(np.min(x), np.max(x))"
      ],
      "execution_count": null,
      "outputs": [
        {
          "output_type": "stream",
          "text": [
            "1.0000000053505658\n"
          ],
          "name": "stdout"
        },
        {
          "output_type": "execute_result",
          "data": {
            "text/plain": [
              "(-7.0, 7.0)"
            ]
          },
          "metadata": {
            "tags": []
          },
          "execution_count": 38
        },
        {
          "output_type": "display_data",
          "data": {
            "image/png": "[encoded data removed]",
            "text/plain": [
              "<Figure size 432x288 with 1 Axes>"
            ]
          },
          "metadata": {
            "tags": [],
            "needs_background": "light"
          }
        }
      ]
    },
    {
      "cell_type": "code",
      "metadata": {
        "id": "YBWgfra4WiUW",
        "colab": {
          "base_uri": "https://localhost:8080/"
        },
        "outputId": "a456b5f8-0c3a-40a6-c995-3322310695a5"
      },
      "source": [
        "np.max(x)"
      ],
      "execution_count": null,
      "outputs": [
        {
          "output_type": "execute_result",
          "data": {
            "text/plain": [
              "6"
            ]
          },
          "metadata": {
            "tags": []
          },
          "execution_count": 36
        }
      ]
    },
    {
      "cell_type": "markdown",
      "metadata": {
        "id": "e4NyrYm_WHJn"
      },
      "source": [
        "https://www.stat.cmu.edu/~cshalizi/mreg/15/lectures/06/lecture-06.pdf"
      ]
    },
    {
      "cell_type": "code",
      "metadata": {
        "id": "YOuR0UmMCYSC"
      },
      "source": [
        ""
      ],
      "execution_count": null,
      "outputs": []
    }
  ]
}
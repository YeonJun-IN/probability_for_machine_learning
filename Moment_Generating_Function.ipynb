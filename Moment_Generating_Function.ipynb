{
  "nbformat": 4,
  "nbformat_minor": 0,
  "metadata": {
    "colab": {
      "name": "Moment Generating Function.ipynb",
      "provenance": [],
      "collapsed_sections": [],
      "authorship_tag": "ABX9TyOevtY9ISOXvoXvjgCWBDGz",
      "include_colab_link": true
    },
    "kernelspec": {
      "name": "python3",
      "display_name": "Python 3"
    },
    "language_info": {
      "name": "python"
    }
  },
  "cells": [
    {
      "cell_type": "markdown",
      "metadata": {
        "id": "view-in-github",
        "colab_type": "text"
      },
      "source": [
        "<a href=\"https://colab.research.google.com/github/YeonJun-IN/probability_for_machine_learning/blob/main/Moment_Generating_Function.ipynb\" target=\"_parent\"><img src=\"https://colab.research.google.com/assets/colab-badge.svg\" alt=\"Open In Colab\"/></a>"
      ]
    },
    {
      "cell_type": "markdown",
      "metadata": {
        "id": "sVt24yRKCF8_"
      },
      "source": [
        "# Moment Generating Function(MGF)\n",
        "\n",
        "## 1. Definition\n",
        "어떤 확률변수 $X$의 MGF는 $M(t) = E(e^{tX})$이고, 이는 $(-a, a)$에서 유한하다. $a>0$\n",
        "> $M(t) =E(e^{tX}) = E(\\sum_{n=0}^{\\infty}{\\frac{(tX)^n}{n!}}$)\n",
        "> \n",
        "> $=\\sum_{n=0}^{\\infty}\\frac{{E(X^n)}t^n}{n!} \\Longrightarrow$  확률변수 X의 모든 n차 적률은 테일러 급수에서 $\\frac{t^n}{n!}$의 계수이다.\n",
        "\n",
        "## 2. Properties\n",
        "- n차 적률을 구하려면, $M^{(n)}(0)=E(X^n)$로 구하거나, 테일러 급수의 계수를 구하면 된다.\n",
        "- 확률변수 X, Y가 동일한 MGF를 가질 경우, 두 확률변수는 동일한 CDF를 가진다. 즉, MGF가 확률분포를 결정한다.\n",
        "- 어떤 두 확률 변수가 독립일 때, 두 확률변수를 합친 새로운 확률변수의 MGF는 두 확률변수의 MGF를 곱한 것과 같다.\n",
        "> $X$의 MGF는 $E(e^{tX})$, $Y$의 MGF는 $E(e^{tY})$\n",
        ">\n",
        "> $X+Y$의 MGF는 $E(e^{t(X+Y)})$\n",
        ">\n",
        "> $E(e^{t(X+Y)}) = E(e^{tX+tY}) = E(e^{tX} e^{tY}) = E(e^{tX})E(e^{tY})$, 3번째 등식은 $X, Y$가 독립이기 때문에 성립.\n",
        "\n",
        "## 3. Examples for some distributions\n",
        "- Exponential distribution $X \\sim Expo(1)$\n",
        "> $\\space\\space f_X(x)=e^{-x}$\n",
        ">\n",
        "> $M(t)=E(e^{tX})=\\int_{0}^{\\infty}{e^{tx}e^{-x}} dx= \\int_{0}^{\\infty}{e^{-(1-t)x}} dx = \\frac{1}{1-t}, \\space\\space (t < 1)$\n",
        ">\n",
        "> $M^{(1)}(t) = \\frac{1}{(1-t)^2}, \\space\\space M^{(2)}(t) = \\frac{2}{(1-t)^3}, \\space\\space M^{(3)}(t) = \\frac{6}{(1-t)^4},...$ 이렇게 모든 n차 적률을 구할 수 있다. \n",
        ">\n",
        "> 이번엔 테일러 급수의 계수를 구하는 방식으로 n차 적률을 구해보자.\n",
        ">\n",
        "> $M(t) = \\frac{1}{1-t}=\\sum_{n=0}^{\\infty}{t^n} = \\sum_{n=0}^{\\infty}n! \\frac{t^n}{n!} \\Longrightarrow M^{(n)}(0) = E(X^n) = n!$\n",
        ">\n",
        "> 2가지 방식으로 구한 n차 적률 값을 비교해보면 동일하다는 것을 알 수 있음.\n",
        "\n",
        "- Exponential distribution $X \\sim Expo(\\lambda)$\n",
        "> $X = \\lambda Y \\sim Expo(1)$라고 하면,\n",
        ">\n",
        "> $Y = \\frac{X}{\\lambda}, \\space\\space Y^n = \\frac{X^n}{\\lambda^n}$\n",
        ">\n",
        "> $E(Y^n) = E(\\frac{X^n}{\\lambda^n}) = \\frac{E(X^n)}{\\lambda^n} = \\frac{n!}{\\lambda^n}$\n",
        "\n",
        "- Standard Normal distribution\n",
        "> $Z \\sim N(0, 1), \\space\\space f_Z(z) = \\frac{1}{\\sqrt{2\\pi}}{e^{-\\frac{z^2}{2}}}$\n",
        ">\n",
        "> $M(t) = E(e^{tz}) = \\int^{\\infty}_{-\\infty}\\frac{1}{\\sqrt{2\\pi}}{e^{-\\frac{z^2}{2}}} e^{tz} dz = \\frac{1}{\\sqrt{2\\pi}}\\int_{-\\infty}^{\\infty}e^{-\\frac{1}{2}(z^2 - 2tz)}dz $\n",
        ">\n",
        "> $= \\frac{1}{\\sqrt{2\\pi}}\\int_{-\\infty}^{\\infty}e^{-\\frac{1}{2}(z-t)^2 + \\frac{t^2}{2}}dz $\n",
        ">\n",
        "> $= \\frac{e^{t^2 / 2}}{\\sqrt{2\\pi}}\\int_{-\\infty}^{\\infty}e^{-\\frac{1}{2}(z-t)^2 }dz = e^{\\frac{t^2}{2}}$   \n",
        ">\n",
        "> $M(t) = e^{\\frac{t^2}{2}}$를 가지고 $M^{(n)}(0)=E(X^n)$  을 구할 수 있다.\n",
        ">\n",
        "> 마찬가지로 테일러 급수의 계수를 구하는 방식을 취해보자.\n",
        "> \n",
        "> $e^{\\frac{t^2}{2}} = \\sum_{n=0}^{\\infty}{\\frac{(t^2 / 2)^n}{n!}} = \\sum_{n=0}^{\\infty}{\\frac{t^{2n}}{2^n n!}} = \\sum_{n=0}^{\\infty}{\\frac{2n!}{2^n n!}\\frac{t^{2n}}{2n!}}$\n",
        "> \n",
        "> MGF의 정의에 의해서 $E(Z^{2n}) = \\frac{2n!}{2^n n!}$\n",
        "> \n",
        "> $E(Z^{2n-1}) = \\int_{-\\infty}^{\\infty} z^{2n-1} \\frac{1}{\\sqrt{2\\pi}}{e^{\\frac{-z^2}{2}}} dz = 0 \\Longrightarrow$ 기함수이기 때문에\n",
        "\n",
        "- Poisson distribution\n",
        "> $X \\sim Pois(\\lambda), \\space\\space P(X=x) = e^{-\\lambda}\\frac{\\lambda ^ x}{x!}$\n",
        ">\n",
        "> $M(t) = E(e^{tX}) = \\sum_{x=0}^{\\infty}{e^{tx} e^{-\\lambda}\\frac{\\lambda ^ x}{x!}}= e^{-\\lambda}\\sum_{x=0}^{\\infty}{\\frac{(e^{t}{\\lambda})^x}{{x!}}} = e^{\\lambda(e^t  - 1)}$\n",
        ">\n",
        "> $M(t) = e^{\\lambda(e^t  - 1)}$를 가지고 $M^{(n)}(0)=E(X^n)$  을 구할 수 있다.\n",
        ">\n",
        "#### 두 poisson의 합은 여전히 possion 분포를 따른다.\n",
        "> $X \\sim Pois(\\mu), \\space\\space Y \\sim Pois(\\lambda)$, 그리고 $X$와 $Y$는 독립\n",
        ">\n",
        "> $X$의 $M(t)$ : $e^{\\mu(e^t  - 1)}$\n",
        ">\n",
        "> $Y$의 $M(t)$ : $e^{\\lambda(e^t  - 1)}$\n",
        ">\n",
        "> $X + Y$의 $M(t)$ : $e^{\\mu(e^t  - 1)}e^{\\lambda(e^t  - 1)} = e^{(\\mu+\\lambda)(e^t  - 1)}\\Longrightarrow X+Y \\sim Pois(\\mu + \\lambda)$"
      ]
    }
  ]
}
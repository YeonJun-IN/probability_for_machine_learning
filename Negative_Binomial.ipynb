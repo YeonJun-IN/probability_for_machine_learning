{
  "nbformat": 4,
  "nbformat_minor": 0,
  "metadata": {
    "colab": {
      "name": "Negative_Binomial.ipynb",
      "provenance": [],
      "collapsed_sections": [],
      "authorship_tag": "ABX9TyM3sFmXhZcywVLyQEuuo5eG",
      "include_colab_link": true
    },
    "kernelspec": {
      "name": "python3",
      "display_name": "Python 3"
    },
    "language_info": {
      "name": "python"
    }
  },
  "cells": [
    {
      "cell_type": "markdown",
      "metadata": {
        "id": "view-in-github",
        "colab_type": "text"
      },
      "source": [
        "<a href=\"https://colab.research.google.com/github/YeonJun-IN/probability_for_machine_learning/blob/main/Negative_Binomial.ipynb\" target=\"_parent\"><img src=\"https://colab.research.google.com/assets/colab-badge.svg\" alt=\"Open In Colab\"/></a>"
      ]
    },
    {
      "cell_type": "markdown",
      "metadata": {
        "id": "KxIOSjnuaF4h"
      },
      "source": [
        "# Negative Binomial Distribution\n",
        "## 1. Definition\n",
        "- i.i.d $Bern(p)$ 시행을 성공이 r번 나올 때까지 진행한다. \n",
        "- 확률변수 $X$가 r번째로 성공하기 전까지 했던 실패의 개수를 나타내면, 확률변수 $X$는 Geometric Distribution을 따른다.\n",
        "- Geometric Distribution의 일반화 버전.\n",
        "\n",
        "## 2. PMF\n",
        "> $P(X=n) = {n+r-1 \\choose r-1} q^{n}p^{r}, \\space\\space n=0,1,2,...$\n",
        "\n",
        "## 3. Expectation and Variance\n",
        "#### Expectation\n",
        "> $E(X) = E(X_1 + X_2 + X_3...+X_r)$\n",
        ">\n",
        "> 여기서 $X_j$는 j-1번째 성공과 j번째 성공 사이의 실패 횟수이다.\n",
        "> \n",
        "> 즉, $X_j \\sim i.i.d \\space \\space Geom(p)$으로 Negative Binomial r.v는 독립적인 r개의 $Geom(p)$의 합이다.\n",
        ">\n",
        "> Expectation의 Linearity 로 인해\n",
        ">\n",
        "> $E(X) = E(X_1) + E(X_2)+E(X_3)...+E(X_r)$\n",
        ">\n",
        "> $=  rq/p $\n",
        "#### Variance\n",
        ">\n",
        ">\n"
      ]
    }
  ]
}
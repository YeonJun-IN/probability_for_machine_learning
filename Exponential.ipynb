{
  "nbformat": 4,
  "nbformat_minor": 0,
  "metadata": {
    "colab": {
      "name": "Exponential.ipynb",
      "provenance": [],
      "collapsed_sections": [],
      "authorship_tag": "ABX9TyOERd4UP+9NFK7jjiFh+7uD",
      "include_colab_link": true
    },
    "kernelspec": {
      "name": "python3",
      "display_name": "Python 3"
    },
    "language_info": {
      "name": "python"
    }
  },
  "cells": [
    {
      "cell_type": "markdown",
      "metadata": {
        "id": "view-in-github",
        "colab_type": "text"
      },
      "source": [
        "<a href=\"https://colab.research.google.com/github/YeonJun-IN/probability_for_machine_learning/blob/main/Exponential.ipynb\" target=\"_parent\"><img src=\"https://colab.research.google.com/assets/colab-badge.svg\" alt=\"Open In Colab\"/></a>"
      ]
    },
    {
      "cell_type": "markdown",
      "metadata": {
        "id": "MtL-ZL_H3u-A"
      },
      "source": [
        "# Normal Distribution\n",
        "## 1. PDF, CDF\n",
        "\n",
        "> $X \\sim Expo(\\lambda)$이면 다음과 같은 PDF를 갖고,\n",
        "> \n",
        "> $\\begin{equation}\n",
        "    f(x)=\n",
        "    \\begin{cases}\n",
        "      \\lambda e^{-\\lambda x}, & \\text{if}\\ x \\geq 0 \\\\\n",
        "      0, & \\text{otherwise}\n",
        "    \\end{cases}\n",
        "\\end{equation}$\n",
        ">\n",
        "> 다음과 같은 CDF를 갖는다.\n",
        ">\n",
        "> $\\begin{equation}\n",
        "    F(x)=\n",
        "    \\begin{cases}\n",
        "      \\int_{0}^{x} \\lambda e^{-\\lambda t} dt = 1- e^{-\\lambda x}, & \\text{if}\\ x \\geq 0 \\\\\n",
        "      0, & \\text{otherwise}\n",
        "    \\end{cases}\n",
        "\\end{equation}$\n",
        ">\n",
        "> $\\lambda$는 rate parameter로 특정 사건이 발생할 비율을 나타냄.\n",
        ">\n",
        "\n",
        "## 2. Expectation, Variance\n",
        "#### Expectation of $X \\sim Expo(\\lambda)$\n",
        "> $E(X)=\\int_{0}^{\\infty}{xf(x) dx}$\n",
        ">\n",
        "> $=\\int_{0}^{\\infty}{x \\lambda e^{-\\lambda x} dx}$\n",
        ">\n",
        "> $= -xe^{-\\lambda x}|_{0}^{\\infty} + \\int_{0}^{\\infty}e^{-\\lambda x}dx$\n",
        ">\n",
        "> $=\\frac{1}{\\lambda}$\n",
        "\n",
        "#### Variance of $X \\sim Expo(\\lambda)$\n",
        "> $Var(X) = E(X^2) - (EX)^2$\n",
        "> \n",
        "> $E(X^2) = \\int_{0}^{\\infty}{x^2 f(x)dx}\\space\\space$ by LOTUS\n",
        ">\n",
        "> $= \\int_{0}^{\\infty}{x^2 \\lambda e^{-\\lambda x}dx}$ \n",
        ">\n",
        "> $= -x^2 e^{-\\lambda x}|^{\\infty}_{0} + 2\\int_{0}^{\\infty}xe^{-\\lambda x}dx$  \n",
        "> \n",
        "> $=\\frac{2}{\\lambda^2}$\n",
        ">\n",
        "> $Var(X) = E(X^2) - (EX)^2 = \\frac{2}{\\lambda^2} - \\frac{1}{\\lambda^2} = \\frac{1}{\\lambda^2}$\n",
        "\n",
        "#### 이런 성질이 있음\n",
        "\n",
        "> $X\\sim Expo(\\lambda), \\space\\space Y = \\lambda X$ 라고 하면, $\\space\\space Y\\sim Expo(1)$이다.\n",
        "> \n",
        "> proof\n",
        "> \n",
        "> $F(X)=F(\\frac{Y}{\\lambda}) = P(X \\leq \\frac{y}{\\lambda})$\n",
        ">\n",
        "> $= 1 - e^{- \\lambda \\cdot \\frac{y}{\\lambda}} = 1- e^{-y}$ \n",
        ">\n",
        "> $= Expo(1)$의 CDF\n",
        ">\n",
        "> $\\therefore Y \\sim Expo(1)$\n",
        ">\n",
        ">\n",
        "> $E(Y) = 1, \\space\\space E(\\frac{Y}{\\lambda}) = \\frac{1}{\\lambda} = E(X) \\space\\space Var(\\frac{Y}{\\lambda}) = \\frac{1}{\\lambda^2} = Var(X)$\n",
        "\n",
        "## 3. Exponential Distribution의 무기억성(memoryless property)\n"
      ]
    },
    {
      "cell_type": "code",
      "metadata": {
        "id": "v9TQZlvjBqcO"
      },
      "source": [
        ""
      ],
      "execution_count": null,
      "outputs": []
    }
  ]
}
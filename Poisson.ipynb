{
  "nbformat": 4,
  "nbformat_minor": 0,
  "metadata": {
    "colab": {
      "name": "Poisson.ipynb",
      "provenance": [],
      "collapsed_sections": [],
      "authorship_tag": "ABX9TyPP425aRmHLtywSW4ouCDcR",
      "include_colab_link": true
    },
    "kernelspec": {
      "name": "python3",
      "display_name": "Python 3"
    },
    "language_info": {
      "name": "python"
    }
  },
  "cells": [
    {
      "cell_type": "markdown",
      "metadata": {
        "id": "view-in-github",
        "colab_type": "text"
      },
      "source": [
        "<a href=\"https://colab.research.google.com/github/YeonJun-IN/probability_for_machine_learning/blob/main/Poisson.ipynb\" target=\"_parent\"><img src=\"https://colab.research.google.com/assets/colab-badge.svg\" alt=\"Open In Colab\"/></a>"
      ]
    },
    {
      "cell_type": "markdown",
      "metadata": {
        "id": "v28gOoyJz8qs"
      },
      "source": [
        "# Poisson Distribution\n",
        "## 1. Definition\n",
        "- 시행의 수$(n)$이 매우 많고, 각 시행의 성공 확률$(p_j)$가 매우 작을 때\n",
        "- 확률 변수 X가 특정 시간 동안 성공이 몇번$(k)$ 발생했는지를 나타내면, Poisson Distribution을 따른다. $X \\sim Pois(\\lambda)$\n",
        "\n",
        "#### Applications\n",
        "- 한 시간 동안 email이 몇 통 왔는지?\n",
        "  - 한 시간 동안 누군가에게 email을 보내는 사람은 엄청나게 많음. $n$ 매우 큼.\n",
        "  - 그치만 그 사람이 보내는 누군가가 나일 확률은 엄청나게 작음. $p$ 매우 작음.\n",
        "- 이론적으로는 $k$에는 상한이 없으나, application에서는 상한이 존재한다. 그래서 이상적인 Poisson distribution은 아니고 이에 근사한다. \n",
        "\n",
        "\n",
        "\n",
        "\n",
        "## 2. PMF\n",
        "> $P(X=k) = e^{-\\lambda}\\lambda ^k / k!, \\space\\space k \\in \\{0,1,2,...\\}$\n",
        "\n",
        "## 3. Expectation and Variance\n",
        "#### Expectation\n",
        "> $E(X) = \\sum_{k=0}^{\\infty}{k e^{-\\lambda}\\lambda ^k / k!} = e^{-\\lambda}\\sum_{k=0}^{\\infty}{k \\lambda ^k / k!} = e^{-\\lambda}\\lambda \\sum_{k=1}^{\\infty}{\\lambda ^{k-1} / (k-1)!}$\n",
        ">\n",
        "> $= e^{-\\lambda}\\lambda \\sum_{j=0}^{\\infty}{\\lambda ^{j} / j!}$\n",
        ">\n",
        "> $=e^{-\\lambda} \\lambda e^{\\lambda} \\space\\space \\because taylor \\space\\space \n",
        "series$ \n",
        ">\n",
        "> $= \\lambda$\n",
        "> \n",
        "> 즉, poisson distribution의 기대값은 모수와 같음.\n",
        "\n",
        "#### Variance\n",
        "> $Var(X) = E(X^2) - (EX)^2$\n",
        ">\n",
        "> $E(X^2) = \\sum_{k=0}^{\\infty}{k^2  e^{-\\lambda}\\frac{\\lambda^k}{k!}} = e^{-\\lambda}\\sum_{k=0}^{\\infty}{k^2 \\frac{\\lambda^k}{k!}}$, \n",
        ">\n",
        "> 여기서 $\\sum_{k=0}^{\\infty}{k^2 \\frac{\\lambda^k}{k!}}$를 다음과 같이 정리할 수 있음.\n",
        ">\n",
        "> taylor series에 의해 $\\sum_{k=0}^{\\infty}\\frac{\\lambda^k}{k!} = e^{\\lambda}\\space\\space$이고, 양변을 $\\lambda$에 대해 미분하면\n",
        ">\n",
        "> $\\sum_{k=0}^{\\infty}\\frac{k \\lambda^{k-1}}{k!} = e^{\\lambda}$가 되고 양변에 $\\lambda$ 곱해주면\n",
        "> \n",
        "> $\\sum_{k=0}^{\\infty}\\frac{k \\lambda^{k}}{k!} = e^{\\lambda}\\lambda$가 됨. 한번 더 $\\lambda$에 대해서 미분해주면\n",
        ">\n",
        "> $\\sum_{k=0}^{\\infty}\\frac{k^2 \\lambda^{k-1}}{k!} = e^{\\lambda}\\lambda + e^{\\lambda}.$ 마지막으로 양변에 $\\lambda$를 곱해주면,\n",
        ">\n",
        "> $\\sum_{k=0}^{\\infty}\\frac{k^2 \\lambda^{k}}{k!} = e^{\\lambda}\\lambda^2 + e^{\\lambda}\\lambda.$ \n",
        ">\n",
        "> 그러면 $E(X^2) = e^{-\\lambda} ( e^{\\lambda}\\lambda^2 + e^{\\lambda}\\lambda) = \\lambda^2 + \\lambda$\n",
        ">\n",
        "> $Var(X) = E(X^2) - (EX)^2 = \\lambda^2 + \\lambda - \\lambda^2 = \\lambda$\n",
        ">\n",
        "> Poisson Distribution의 Expectation과 Variance는 $\\lambda$로 동일함.\n",
        "\n",
        "## 4. Poisson Approximation of Binomial\n",
        "<!-- 다음과 같은 경우 Poisson distribution에 근사한다.\n",
        "> 사건 $A_1, A_2, ... A_n$가 있고, 각 사건 $A_j$가 발생할 확률 $P(A_j)=p_j$이며 각 사건은 모두 독립(또는 약한 종속)이다. \n",
        "> \n",
        "> 이때 $n$이 매우 크고 $p_j$가 매우 작으면, 사건 $A_j$가 발생한 횟수가 $Pois(\\lambda)$에 근사한다.  $\\lambda = \\sum_{j=1}^{n}{p_j}$ -->\n",
        "\n",
        "> $X \\sim Bin(n, p)$ 이고 $\\space\\space n \\to \\infty, \\space\\space p \\to 0, \\space\\space \\lambda = np$ 가 상수이면\n",
        ">\n",
        "> $Bin(n,p)$가 $Pois(\\lambda)$에 근사한다.\n",
        "> \n",
        "#### 증명\n",
        "> $P(X=k)= {n \\choose k}p^k q^{n-k} = {n \\choose k}(\\frac{\\lambda}{n})^k (1- \\frac{\\lambda}{n})^{n-k}$\n",
        "> \n",
        "> $= \\frac{n(n-1)(n-2)...(n-k+1)\\lambda^{k}}{k!n^k} (1- \\frac{\\lambda}{n})^{n-k}$\n",
        "> \n",
        "> $n \\to \\infty$ 이니까\n",
        ">\n",
        "> $\\frac{\\lambda^{k}}{k!}\\lim_{n \\to \\infty}\\frac{n(n-1)(n-2)...(n-k+1)}{n^k} (1- \\frac{\\lambda}{n})^{n}(1- \\frac{\\lambda}{n})^{-k}$\n",
        ">\n",
        "> $\\frac{\\lambda^{k}}{k!}\\lim_{n \\to \\infty}(1- \\frac{\\lambda}{n})^{n},\\space\\space$ 미분의 정의에 의해\n",
        ">\n",
        "> $=\\frac{\\lambda^{k}}{k!} e^{-\\lambda},\\space\\space Pois(\\lambda)$의 PMF "
      ]
    },
    {
      "cell_type": "code",
      "metadata": {
        "id": "h-UXvMa1Twp6"
      },
      "source": [
        ""
      ],
      "execution_count": null,
      "outputs": []
    }
  ]
}